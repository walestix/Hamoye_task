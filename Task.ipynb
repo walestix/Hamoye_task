{
 "cells": [
  {
   "cell_type": "code",
   "execution_count": 58,
   "id": "3a8e08f0",
   "metadata": {},
   "outputs": [
    {
     "name": "stdout",
     "output_type": "stream",
     "text": [
      "[1, 2, 3, 4, 5, 6, 13, 21, 34]\n"
     ]
    }
   ],
   "source": [
    "A = [1, 2, 3, 4, 5, 6];\n",
    "B = [13 , 21, 34];\n",
    "A.extend(B)\n",
    "print(A)"
   ]
  },
  {
   "cell_type": "code",
   "execution_count": 57,
   "id": "6dea40c9",
   "metadata": {},
   "outputs": [
    {
     "data": {
      "text/plain": [
       "array([[1., 0., 0.],\n",
       "       [0., 1., 0.],\n",
       "       [0., 0., 1.]])"
      ]
     },
     "execution_count": 57,
     "metadata": {},
     "output_type": "execute_result"
    }
   ],
   "source": [
    "np.identity(3)\n",
    "\n"
   ]
  },
  {
   "cell_type": "code",
   "execution_count": 41,
   "id": "099cd110",
   "metadata": {},
   "outputs": [
    {
     "name": "stdout",
     "output_type": "stream",
     "text": [
      "                     record_id  utility_id_ferc1  report_year  \\\n",
      "0        f1_fuel_1994_12_1_0_7                 1         1994   \n",
      "1       f1_fuel_1994_12_1_0_10                 1         1994   \n",
      "2        f1_fuel_1994_12_2_0_1                 2         1994   \n",
      "3        f1_fuel_1994_12_2_0_7                 2         1994   \n",
      "4       f1_fuel_1994_12_2_0_10                 2         1994   \n",
      "...                        ...               ...          ...   \n",
      "29518  f1_fuel_2018_12_12_0_13                12         2018   \n",
      "29519   f1_fuel_2018_12_12_1_1                12         2018   \n",
      "29520  f1_fuel_2018_12_12_1_10                12         2018   \n",
      "29521  f1_fuel_2018_12_12_1_13                12         2018   \n",
      "29522  f1_fuel_2018_12_12_1_14                12         2018   \n",
      "\n",
      "           plant_name_ferc1 fuel_type_code_pudl fuel_unit  fuel_qty_burned  \\\n",
      "0                  rockport                coal       ton        5377489.0   \n",
      "1      rockport total plant                coal       ton       10486945.0   \n",
      "2                    gorgas                coal       ton        2978683.0   \n",
      "3                     barry                coal       ton        3739484.0   \n",
      "4                 chickasaw                 gas       mcf          40533.0   \n",
      "...                     ...                 ...       ...              ...   \n",
      "29518    neil simpson ct #1                 gas       mcf          18799.0   \n",
      "29519  cheyenne prairie 58%                 gas       mcf         806730.0   \n",
      "29520     lange ct facility                 gas       mcf         104554.0   \n",
      "29521       wygen 3 bhp 52%                coal       ton         315945.0   \n",
      "29522       wygen 3 bhp 52%                 gas       mcf          17853.0   \n",
      "\n",
      "       fuel_mmbtu_per_unit  fuel_cost_per_unit_burned  \\\n",
      "0                   16.590                      18.59   \n",
      "1                   16.592                      18.58   \n",
      "2                   24.130                      39.72   \n",
      "3                   23.950                      47.21   \n",
      "4                    1.000                       2.77   \n",
      "...                    ...                        ...   \n",
      "29518                1.059                       4.78   \n",
      "29519                1.050                       3.65   \n",
      "29520                1.060                       4.77   \n",
      "29521               16.108                       3.06   \n",
      "29522                1.059                       0.00   \n",
      "\n",
      "       fuel_cost_per_unit_delivered  fuel_cost_per_mmbtu  \n",
      "0                             18.53                1.121  \n",
      "1                             18.53                1.120  \n",
      "2                             38.12                1.650  \n",
      "3                             45.99                1.970  \n",
      "4                              2.77                2.570  \n",
      "...                             ...                  ...  \n",
      "29518                          4.78                9.030  \n",
      "29519                          3.65                6.950  \n",
      "29520                          4.77                8.990  \n",
      "29521                         14.76                1.110  \n",
      "29522                          0.00               11.680  \n",
      "\n",
      "[29523 rows x 11 columns]\n"
     ]
    }
   ],
   "source": [
    "import pandas as pd\n",
    "url =  ('https://github.com/WalePhenomenon/climate_change/blob/master/fuel_ferc1.csv?raw=true')\n",
    "fuel_data = pd.read_csv(url)\n",
    "fuel_data.describe(include='all')\n",
    "\n",
    "\n",
    "print(fuel_data)"
   ]
  },
  {
   "cell_type": "code",
   "execution_count": 44,
   "id": "94df0da2",
   "metadata": {},
   "outputs": [
    {
     "name": "stdout",
     "output_type": "stream",
     "text": [
      "208.64903102665716\n"
     ]
    }
   ],
   "source": [
    "import pandas as pd\n",
    "url =  ('https://github.com/WalePhenomenon/climate_change/blob/master/fuel_ferc1.csv?raw=true')\n",
    "fuel_data = pd.read_csv(url)\n",
    "fuel_data.describe(include='all')\n",
    "\n",
    "Cmean=fuel_data['fuel_cost_per_unit_burned'].mean()\n",
    "\n",
    "print(Cmean)"
   ]
  },
  {
   "cell_type": "code",
   "execution_count": 50,
   "id": "4982dec0",
   "metadata": {},
   "outputs": [
    {
     "name": "stdout",
     "output_type": "stream",
     "text": [
      "count     29523\n",
      "unique        6\n",
      "top         gas\n",
      "freq      11486\n",
      "Name: fuel_type_code_pudl, dtype: object\n"
     ]
    }
   ],
   "source": [
    "import pandas as pd\n",
    "url =  ('https://github.com/WalePhenomenon/climate_change/blob/master/fuel_ferc1.csv?raw=true')\n",
    "fuel_data = pd.read_csv(url)\n",
    "fuel_data.describe(include='all')\n",
    "\n",
    "Amean= fuel_data['fuel_type_code_pudl'].describe()\n",
    "\n",
    "print(Amean)"
   ]
  },
  {
   "cell_type": "code",
   "execution_count": 46,
   "id": "bdb42b71",
   "metadata": {},
   "outputs": [
    {
     "name": "stdout",
     "output_type": "stream",
     "text": [
      "count    29523.000000\n",
      "mean         8.492111\n",
      "std         10.600220\n",
      "min          0.000001\n",
      "25%          1.024000\n",
      "50%          5.762694\n",
      "75%         17.006000\n",
      "max        341.260000\n",
      "Name: fuel_mmbtu_per_unit, dtype: float64\n"
     ]
    }
   ],
   "source": [
    "import pandas as pd\n",
    "url =  ('https://github.com/WalePhenomenon/climate_change/blob/master/fuel_ferc1.csv?raw=true')\n",
    "fuel_data = pd.read_csv(url)\n",
    "fuel_data.describe(include='all')\n",
    "\n",
    "Dmean=fuel_data['fuel_mmbtu_per_unit'].describe()\n",
    "\n",
    "print(Dmean)"
   ]
  },
  {
   "cell_type": "code",
   "execution_count": 53,
   "id": "d9f5bcda",
   "metadata": {},
   "outputs": [
    {
     "name": "stdout",
     "output_type": "stream",
     "text": [
      "15.851495469109503\n"
     ]
    }
   ],
   "source": [
    "import pandas as pd\n",
    "url =  ('https://github.com/WalePhenomenon/climate_change/blob/master/fuel_ferc1.csv?raw=true')\n",
    "fuel_data = pd.read_csv(url)\n",
    "fuel_data.describe(include='all')\n",
    "\n",
    "skewness = fuel_data['fuel_qty_burned'].skew()\n",
    "kurtosis = fuel_data['fuel_qty_burned'].kurt()\n",
    "\n",
    "print(skewness)"
   ]
  },
  {
   "cell_type": "code",
   "execution_count": 49,
   "id": "7773de5d",
   "metadata": {},
   "outputs": [
    {
     "name": "stdout",
     "output_type": "stream",
     "text": [
      "<bound method IndexOpsMixin.value_counts of 0        coal\n",
      "1        coal\n",
      "2        coal\n",
      "3        coal\n",
      "4         gas\n",
      "         ... \n",
      "29518     gas\n",
      "29519     gas\n",
      "29520     gas\n",
      "29521    coal\n",
      "29522     gas\n",
      "Name: fuel_type_code_pudl, Length: 29523, dtype: object>\n"
     ]
    }
   ],
   "source": [
    "import pandas as pd\n",
    "url =  ('https://github.com/WalePhenomenon/climate_change/blob/master/fuel_ferc1.csv?raw=true')\n",
    "fuel_data = pd.read_csv(url)\n",
    "fuel_data.describe(include='all')\n",
    "\n",
    "Gmean=fuel_data['fuel_type_code_pudl'].value_counts\n",
    "\n",
    "print(Gmean)"
   ]
  },
  {
   "cell_type": "code",
   "execution_count": 55,
   "id": "bb946199",
   "metadata": {},
   "outputs": [
    {
     "name": "stdout",
     "output_type": "stream",
     "text": [
      "651.3694501337732\n"
     ]
    }
   ],
   "source": [
    "import pandas as pd\n",
    "url =  ('https://github.com/WalePhenomenon/climate_change/blob/master/fuel_ferc1.csv?raw=true')\n",
    "fuel_data = pd.read_csv(url)\n",
    "fuel_data.describe(include='all')\n",
    "\n",
    "\n",
    "kurtosis = fuel_data['fuel_qty_burned'].kurt()\n",
    "\n",
    "print(kurtosis)"
   ]
  },
  {
   "cell_type": "code",
   "execution_count": 59,
   "id": "55db8c6d",
   "metadata": {},
   "outputs": [
    {
     "name": "stdout",
     "output_type": "stream",
     "text": [
      "count    29523.000000\n",
      "mean      2005.806050\n",
      "std          7.025483\n",
      "min       1994.000000\n",
      "25%       2000.000000\n",
      "50%       2006.000000\n",
      "75%       2012.000000\n",
      "max       2018.000000\n",
      "Name: report_year, dtype: float64\n"
     ]
    }
   ],
   "source": [
    "import pandas as pd\n",
    "url =  ('https://github.com/WalePhenomenon/climate_change/blob/master/fuel_ferc1.csv?raw=true')\n",
    "fuel_data = pd.read_csv(url)\n",
    "fuel_data.describe(include='all')\n",
    "year =fuel_data['report_year'].describe()\n",
    "\n",
    "print(year)"
   ]
  },
  {
   "cell_type": "code",
   "execution_count": null,
   "id": "ad41228a",
   "metadata": {},
   "outputs": [],
   "source": []
  }
 ],
 "metadata": {
  "kernelspec": {
   "display_name": "Python 3",
   "language": "python",
   "name": "python3"
  },
  "language_info": {
   "codemirror_mode": {
    "name": "ipython",
    "version": 3
   },
   "file_extension": ".py",
   "mimetype": "text/x-python",
   "name": "python",
   "nbconvert_exporter": "python",
   "pygments_lexer": "ipython3",
   "version": "3.8.8"
  },
  "toc": {
   "base_numbering": 1,
   "nav_menu": {},
   "number_sections": true,
   "sideBar": true,
   "skip_h1_title": false,
   "title_cell": "Table of Contents",
   "title_sidebar": "Contents",
   "toc_cell": false,
   "toc_position": {},
   "toc_section_display": true,
   "toc_window_display": false
  },
  "varInspector": {
   "cols": {
    "lenName": 16,
    "lenType": 16,
    "lenVar": 40
   },
   "kernels_config": {
    "python": {
     "delete_cmd_postfix": "",
     "delete_cmd_prefix": "del ",
     "library": "var_list.py",
     "varRefreshCmd": "print(var_dic_list())"
    },
    "r": {
     "delete_cmd_postfix": ") ",
     "delete_cmd_prefix": "rm(",
     "library": "var_list.r",
     "varRefreshCmd": "cat(var_dic_list()) "
    }
   },
   "types_to_exclude": [
    "module",
    "function",
    "builtin_function_or_method",
    "instance",
    "_Feature"
   ],
   "window_display": false
  }
 },
 "nbformat": 4,
 "nbformat_minor": 5
}
